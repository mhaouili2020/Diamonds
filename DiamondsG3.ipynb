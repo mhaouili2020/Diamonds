{
  "nbformat": 4,
  "nbformat_minor": 0,
  "metadata": {
    "colab": {
      "name": "DiamondsG3.ipynb",
      "provenance": [],
      "collapsed_sections": [
        "xTF5PIVRzJTy",
        "ZNp0IpxnzQmr",
        "uwVXzvl5dzVj",
        "IHVL6RqVBowW"
      ]
    },
    "kernelspec": {
      "name": "python3",
      "display_name": "Python 3"
    },
    "language_info": {
      "name": "python"
    }
  },
  "cells": [
    {
      "cell_type": "code",
      "metadata": {
        "id": "92aRAGYkvFI5"
      },
      "source": [
        "import pandas as pd\n",
        "import numpy as np"
      ],
      "execution_count": 191,
      "outputs": []
    },
    {
      "cell_type": "code",
      "metadata": {
        "id": "qoBJM5EFcPp2"
      },
      "source": [
        "diamonds=pd.read_csv('diamonds.csv')"
      ],
      "execution_count": 192,
      "outputs": []
    },
    {
      "cell_type": "markdown",
      "metadata": {
        "id": "xTF5PIVRzJTy"
      },
      "source": [
        "#Discover and Visualize the data "
      ]
    },
    {
      "cell_type": "code",
      "metadata": {
        "colab": {
          "base_uri": "https://localhost:8080/"
        },
        "id": "fbJ-93OzwtOT",
        "outputId": "14b7d298-a029-4b0d-e64f-44cff8d80744"
      },
      "source": [
        "diamonds.info()"
      ],
      "execution_count": 193,
      "outputs": [
        {
          "output_type": "stream",
          "text": [
            "<class 'pandas.core.frame.DataFrame'>\n",
            "RangeIndex: 53940 entries, 0 to 53939\n",
            "Data columns (total 11 columns):\n",
            " #   Column      Non-Null Count  Dtype  \n",
            "---  ------      --------------  -----  \n",
            " 0   Unnamed: 0  53940 non-null  int64  \n",
            " 1   carat       53940 non-null  float64\n",
            " 2   cut         53940 non-null  object \n",
            " 3   color       53940 non-null  object \n",
            " 4   clarity     53940 non-null  object \n",
            " 5   depth       53940 non-null  float64\n",
            " 6   table       53940 non-null  float64\n",
            " 7   price       53940 non-null  int64  \n",
            " 8   x           53940 non-null  float64\n",
            " 9   y           53940 non-null  float64\n",
            " 10  z           53940 non-null  float64\n",
            "dtypes: float64(6), int64(2), object(3)\n",
            "memory usage: 4.5+ MB\n"
          ],
          "name": "stdout"
        }
      ]
    },
    {
      "cell_type": "code",
      "metadata": {
        "colab": {
          "base_uri": "https://localhost:8080/",
          "height": 0
        },
        "id": "V57DYsphx10K",
        "outputId": "4ed5e01b-135e-41e9-bfc8-0acb9ea25963"
      },
      "source": [
        "#more in depth look\n",
        "diamonds.head()"
      ],
      "execution_count": 194,
      "outputs": [
        {
          "output_type": "execute_result",
          "data": {
            "text/html": [
              "<div>\n",
              "<style scoped>\n",
              "    .dataframe tbody tr th:only-of-type {\n",
              "        vertical-align: middle;\n",
              "    }\n",
              "\n",
              "    .dataframe tbody tr th {\n",
              "        vertical-align: top;\n",
              "    }\n",
              "\n",
              "    .dataframe thead th {\n",
              "        text-align: right;\n",
              "    }\n",
              "</style>\n",
              "<table border=\"1\" class=\"dataframe\">\n",
              "  <thead>\n",
              "    <tr style=\"text-align: right;\">\n",
              "      <th></th>\n",
              "      <th>Unnamed: 0</th>\n",
              "      <th>carat</th>\n",
              "      <th>cut</th>\n",
              "      <th>color</th>\n",
              "      <th>clarity</th>\n",
              "      <th>depth</th>\n",
              "      <th>table</th>\n",
              "      <th>price</th>\n",
              "      <th>x</th>\n",
              "      <th>y</th>\n",
              "      <th>z</th>\n",
              "    </tr>\n",
              "  </thead>\n",
              "  <tbody>\n",
              "    <tr>\n",
              "      <th>0</th>\n",
              "      <td>1</td>\n",
              "      <td>0.23</td>\n",
              "      <td>Ideal</td>\n",
              "      <td>E</td>\n",
              "      <td>SI2</td>\n",
              "      <td>61.5</td>\n",
              "      <td>55.0</td>\n",
              "      <td>326</td>\n",
              "      <td>3.95</td>\n",
              "      <td>3.98</td>\n",
              "      <td>2.43</td>\n",
              "    </tr>\n",
              "    <tr>\n",
              "      <th>1</th>\n",
              "      <td>2</td>\n",
              "      <td>0.21</td>\n",
              "      <td>Premium</td>\n",
              "      <td>E</td>\n",
              "      <td>SI1</td>\n",
              "      <td>59.8</td>\n",
              "      <td>61.0</td>\n",
              "      <td>326</td>\n",
              "      <td>3.89</td>\n",
              "      <td>3.84</td>\n",
              "      <td>2.31</td>\n",
              "    </tr>\n",
              "    <tr>\n",
              "      <th>2</th>\n",
              "      <td>3</td>\n",
              "      <td>0.23</td>\n",
              "      <td>Good</td>\n",
              "      <td>E</td>\n",
              "      <td>VS1</td>\n",
              "      <td>56.9</td>\n",
              "      <td>65.0</td>\n",
              "      <td>327</td>\n",
              "      <td>4.05</td>\n",
              "      <td>4.07</td>\n",
              "      <td>2.31</td>\n",
              "    </tr>\n",
              "    <tr>\n",
              "      <th>3</th>\n",
              "      <td>4</td>\n",
              "      <td>0.29</td>\n",
              "      <td>Premium</td>\n",
              "      <td>I</td>\n",
              "      <td>VS2</td>\n",
              "      <td>62.4</td>\n",
              "      <td>58.0</td>\n",
              "      <td>334</td>\n",
              "      <td>4.20</td>\n",
              "      <td>4.23</td>\n",
              "      <td>2.63</td>\n",
              "    </tr>\n",
              "    <tr>\n",
              "      <th>4</th>\n",
              "      <td>5</td>\n",
              "      <td>0.31</td>\n",
              "      <td>Good</td>\n",
              "      <td>J</td>\n",
              "      <td>SI2</td>\n",
              "      <td>63.3</td>\n",
              "      <td>58.0</td>\n",
              "      <td>335</td>\n",
              "      <td>4.34</td>\n",
              "      <td>4.35</td>\n",
              "      <td>2.75</td>\n",
              "    </tr>\n",
              "  </tbody>\n",
              "</table>\n",
              "</div>"
            ],
            "text/plain": [
              "   Unnamed: 0  carat      cut color clarity  ...  table  price     x     y     z\n",
              "0           1   0.23    Ideal     E     SI2  ...   55.0    326  3.95  3.98  2.43\n",
              "1           2   0.21  Premium     E     SI1  ...   61.0    326  3.89  3.84  2.31\n",
              "2           3   0.23     Good     E     VS1  ...   65.0    327  4.05  4.07  2.31\n",
              "3           4   0.29  Premium     I     VS2  ...   58.0    334  4.20  4.23  2.63\n",
              "4           5   0.31     Good     J     SI2  ...   58.0    335  4.34  4.35  2.75\n",
              "\n",
              "[5 rows x 11 columns]"
            ]
          },
          "metadata": {},
          "execution_count": 194
        }
      ]
    },
    {
      "cell_type": "code",
      "metadata": {
        "colab": {
          "base_uri": "https://localhost:8080/",
          "height": 0
        },
        "id": "eZfwWQtYyK7s",
        "outputId": "9d890012-6e88-4156-cc13-91761b14d4d0"
      },
      "source": [
        "diamonds.describe()"
      ],
      "execution_count": 195,
      "outputs": [
        {
          "output_type": "execute_result",
          "data": {
            "text/html": [
              "<div>\n",
              "<style scoped>\n",
              "    .dataframe tbody tr th:only-of-type {\n",
              "        vertical-align: middle;\n",
              "    }\n",
              "\n",
              "    .dataframe tbody tr th {\n",
              "        vertical-align: top;\n",
              "    }\n",
              "\n",
              "    .dataframe thead th {\n",
              "        text-align: right;\n",
              "    }\n",
              "</style>\n",
              "<table border=\"1\" class=\"dataframe\">\n",
              "  <thead>\n",
              "    <tr style=\"text-align: right;\">\n",
              "      <th></th>\n",
              "      <th>Unnamed: 0</th>\n",
              "      <th>carat</th>\n",
              "      <th>depth</th>\n",
              "      <th>table</th>\n",
              "      <th>price</th>\n",
              "      <th>x</th>\n",
              "      <th>y</th>\n",
              "      <th>z</th>\n",
              "    </tr>\n",
              "  </thead>\n",
              "  <tbody>\n",
              "    <tr>\n",
              "      <th>count</th>\n",
              "      <td>53940.000000</td>\n",
              "      <td>53940.000000</td>\n",
              "      <td>53940.000000</td>\n",
              "      <td>53940.000000</td>\n",
              "      <td>53940.000000</td>\n",
              "      <td>53940.000000</td>\n",
              "      <td>53940.000000</td>\n",
              "      <td>53940.000000</td>\n",
              "    </tr>\n",
              "    <tr>\n",
              "      <th>mean</th>\n",
              "      <td>26970.500000</td>\n",
              "      <td>0.797940</td>\n",
              "      <td>61.749405</td>\n",
              "      <td>57.457184</td>\n",
              "      <td>3932.799722</td>\n",
              "      <td>5.731157</td>\n",
              "      <td>5.734526</td>\n",
              "      <td>3.538734</td>\n",
              "    </tr>\n",
              "    <tr>\n",
              "      <th>std</th>\n",
              "      <td>15571.281097</td>\n",
              "      <td>0.474011</td>\n",
              "      <td>1.432621</td>\n",
              "      <td>2.234491</td>\n",
              "      <td>3989.439738</td>\n",
              "      <td>1.121761</td>\n",
              "      <td>1.142135</td>\n",
              "      <td>0.705699</td>\n",
              "    </tr>\n",
              "    <tr>\n",
              "      <th>min</th>\n",
              "      <td>1.000000</td>\n",
              "      <td>0.200000</td>\n",
              "      <td>43.000000</td>\n",
              "      <td>43.000000</td>\n",
              "      <td>326.000000</td>\n",
              "      <td>0.000000</td>\n",
              "      <td>0.000000</td>\n",
              "      <td>0.000000</td>\n",
              "    </tr>\n",
              "    <tr>\n",
              "      <th>25%</th>\n",
              "      <td>13485.750000</td>\n",
              "      <td>0.400000</td>\n",
              "      <td>61.000000</td>\n",
              "      <td>56.000000</td>\n",
              "      <td>950.000000</td>\n",
              "      <td>4.710000</td>\n",
              "      <td>4.720000</td>\n",
              "      <td>2.910000</td>\n",
              "    </tr>\n",
              "    <tr>\n",
              "      <th>50%</th>\n",
              "      <td>26970.500000</td>\n",
              "      <td>0.700000</td>\n",
              "      <td>61.800000</td>\n",
              "      <td>57.000000</td>\n",
              "      <td>2401.000000</td>\n",
              "      <td>5.700000</td>\n",
              "      <td>5.710000</td>\n",
              "      <td>3.530000</td>\n",
              "    </tr>\n",
              "    <tr>\n",
              "      <th>75%</th>\n",
              "      <td>40455.250000</td>\n",
              "      <td>1.040000</td>\n",
              "      <td>62.500000</td>\n",
              "      <td>59.000000</td>\n",
              "      <td>5324.250000</td>\n",
              "      <td>6.540000</td>\n",
              "      <td>6.540000</td>\n",
              "      <td>4.040000</td>\n",
              "    </tr>\n",
              "    <tr>\n",
              "      <th>max</th>\n",
              "      <td>53940.000000</td>\n",
              "      <td>5.010000</td>\n",
              "      <td>79.000000</td>\n",
              "      <td>95.000000</td>\n",
              "      <td>18823.000000</td>\n",
              "      <td>10.740000</td>\n",
              "      <td>58.900000</td>\n",
              "      <td>31.800000</td>\n",
              "    </tr>\n",
              "  </tbody>\n",
              "</table>\n",
              "</div>"
            ],
            "text/plain": [
              "         Unnamed: 0         carat  ...             y             z\n",
              "count  53940.000000  53940.000000  ...  53940.000000  53940.000000\n",
              "mean   26970.500000      0.797940  ...      5.734526      3.538734\n",
              "std    15571.281097      0.474011  ...      1.142135      0.705699\n",
              "min        1.000000      0.200000  ...      0.000000      0.000000\n",
              "25%    13485.750000      0.400000  ...      4.720000      2.910000\n",
              "50%    26970.500000      0.700000  ...      5.710000      3.530000\n",
              "75%    40455.250000      1.040000  ...      6.540000      4.040000\n",
              "max    53940.000000      5.010000  ...     58.900000     31.800000\n",
              "\n",
              "[8 rows x 8 columns]"
            ]
          },
          "metadata": {},
          "execution_count": 195
        }
      ]
    },
    {
      "cell_type": "code",
      "metadata": {
        "id": "41gDcpK-yVW2"
      },
      "source": [
        "import matplotlib.pyplot as plt "
      ],
      "execution_count": 196,
      "outputs": []
    },
    {
      "cell_type": "code",
      "metadata": {
        "colab": {
          "base_uri": "https://localhost:8080/",
          "height": 0
        },
        "id": "wFtQpnNDcgSW",
        "outputId": "125f60bb-3b32-422a-b04f-a669196f475b"
      },
      "source": [
        "#plots to better visualize the data \n",
        "diamonds.hist(bins=50,figsize=(15,10))\n",
        "plt.show()"
      ],
      "execution_count": 197,
      "outputs": [
        {
          "output_type": "display_data",
          "data": {
            "image/png": "[encoded data removed]",
            "text/plain": [
              "<Figure size 1080x720 with 9 Axes>"
            ]
          },
          "metadata": {
            "needs_background": "light"
          }
        }
      ]
    },
    {
      "cell_type": "markdown",
      "metadata": {
        "id": "ZNp0IpxnzQmr"
      },
      "source": [
        "#Cleaning the data"
      ]
    },
    {
      "cell_type": "code",
      "metadata": {
        "id": "Bv6S7Yc2zTWo"
      },
      "source": [
        "#dropping the unneeded column, the index column \n",
        "diamonds = diamonds.drop(\"Unnamed: 0\",axis=1)"
      ],
      "execution_count": 198,
      "outputs": []
    },
    {
      "cell_type": "code",
      "metadata": {
        "colab": {
          "base_uri": "https://localhost:8080/"
        },
        "id": "ZKJfktPiz1ID",
        "outputId": "d5787787-742d-4568-cfe5-970af48cf4b0"
      },
      "source": [
        "diamonds.info()"
      ],
      "execution_count": 199,
      "outputs": [
        {
          "output_type": "stream",
          "text": [
            "<class 'pandas.core.frame.DataFrame'>\n",
            "RangeIndex: 53940 entries, 0 to 53939\n",
            "Data columns (total 10 columns):\n",
            " #   Column   Non-Null Count  Dtype  \n",
            "---  ------   --------------  -----  \n",
            " 0   carat    53940 non-null  float64\n",
            " 1   cut      53940 non-null  object \n",
            " 2   color    53940 non-null  object \n",
            " 3   clarity  53940 non-null  object \n",
            " 4   depth    53940 non-null  float64\n",
            " 5   table    53940 non-null  float64\n",
            " 6   price    53940 non-null  int64  \n",
            " 7   x        53940 non-null  float64\n",
            " 8   y        53940 non-null  float64\n",
            " 9   z        53940 non-null  float64\n",
            "dtypes: float64(6), int64(1), object(3)\n",
            "memory usage: 4.1+ MB\n"
          ],
          "name": "stdout"
        }
      ]
    },
    {
      "cell_type": "code",
      "metadata": {
        "id": "3e8prHoZd9np"
      },
      "source": [
        "#dropping any values that contain \"0\" dimentions \n",
        "diamonds = diamonds.drop(diamonds[(diamonds[\"x\"]==0)| (diamonds[\"y\"]==0)|(diamonds[\"z\"]==0)].index)"
      ],
      "execution_count": 200,
      "outputs": []
    },
    {
      "cell_type": "code",
      "metadata": {
        "colab": {
          "base_uri": "https://localhost:8080/"
        },
        "id": "8P4eZ87-d-p8",
        "outputId": "c18473b1-6a06-48fa-e140-28db6e177290"
      },
      "source": [
        "diamonds.info()"
      ],
      "execution_count": 201,
      "outputs": [
        {
          "output_type": "stream",
          "text": [
            "<class 'pandas.core.frame.DataFrame'>\n",
            "Int64Index: 53920 entries, 0 to 53939\n",
            "Data columns (total 10 columns):\n",
            " #   Column   Non-Null Count  Dtype  \n",
            "---  ------   --------------  -----  \n",
            " 0   carat    53920 non-null  float64\n",
            " 1   cut      53920 non-null  object \n",
            " 2   color    53920 non-null  object \n",
            " 3   clarity  53920 non-null  object \n",
            " 4   depth    53920 non-null  float64\n",
            " 5   table    53920 non-null  float64\n",
            " 6   price    53920 non-null  int64  \n",
            " 7   x        53920 non-null  float64\n",
            " 8   y        53920 non-null  float64\n",
            " 9   z        53920 non-null  float64\n",
            "dtypes: float64(6), int64(1), object(3)\n",
            "memory usage: 4.5+ MB\n"
          ],
          "name": "stdout"
        }
      ]
    },
    {
      "cell_type": "markdown",
      "metadata": {
        "id": "uwVXzvl5dzVj"
      },
      "source": [
        "#Text and Categorical Attributes "
      ]
    },
    {
      "cell_type": "code",
      "metadata": {
        "colab": {
          "base_uri": "https://localhost:8080/"
        },
        "id": "W9SjE18Je_Or",
        "outputId": "f6a9630a-0cc3-47c4-99d7-1f972d00d471"
      },
      "source": [
        "diamonds.info()"
      ],
      "execution_count": 202,
      "outputs": [
        {
          "output_type": "stream",
          "text": [
            "<class 'pandas.core.frame.DataFrame'>\n",
            "Int64Index: 53920 entries, 0 to 53939\n",
            "Data columns (total 10 columns):\n",
            " #   Column   Non-Null Count  Dtype  \n",
            "---  ------   --------------  -----  \n",
            " 0   carat    53920 non-null  float64\n",
            " 1   cut      53920 non-null  object \n",
            " 2   color    53920 non-null  object \n",
            " 3   clarity  53920 non-null  object \n",
            " 4   depth    53920 non-null  float64\n",
            " 5   table    53920 non-null  float64\n",
            " 6   price    53920 non-null  int64  \n",
            " 7   x        53920 non-null  float64\n",
            " 8   y        53920 non-null  float64\n",
            " 9   z        53920 non-null  float64\n",
            "dtypes: float64(6), int64(1), object(3)\n",
            "memory usage: 4.5+ MB\n"
          ],
          "name": "stdout"
        }
      ]
    },
    {
      "cell_type": "code",
      "metadata": {
        "id": "oQycUKAZmBh1"
      },
      "source": [
        "#replacing the text values into numbers usning the replace function \n",
        "diamonds.replace({\"Fair\": 1, \"Good\": 2, \"Very Good\": 3, \"Premium\": 4, \"Ideal\": 5}, inplace=True)\n",
        "diamonds.replace({\"J\": 1, \"I\": 2, \"H\": 3, \"G\": 4, \"F\": 5, \"E\": 6, \"D\": 7}, inplace=True)\n",
        "diamonds.replace({\"I1\": 1, \"SI2\": 2, \"SI1\": 3, \"VS2\": 4, \"VS1\": 5, \"VVS2\": 6, \"VVS1\": 7, \"IF\": 8}, inplace=True)"
      ],
      "execution_count": 203,
      "outputs": []
    },
    {
      "cell_type": "code",
      "metadata": {
        "id": "DJn3QX88A0eZ"
      },
      "source": [
        "#using 1hot encoding\n",
        "from sklearn.preprocessing import OneHotEncoder\n",
        "def oneHot(a):\n",
        "    cat_encoder=OneHotEncoder()\n",
        "    encoded_cat=cat_encoder.fit_transform(diamonds[[a]])\n",
        "    diamonds[a]=encoded_cat.toarray()\n",
        "\n",
        "oneHot(\"clarity\")\n",
        "oneHot(\"color\")\n",
        "oneHot(\"cut\")"
      ],
      "execution_count": 204,
      "outputs": []
    },
    {
      "cell_type": "code",
      "metadata": {
        "colab": {
          "base_uri": "https://localhost:8080/",
          "height": 202
        },
        "id": "Xvx3vLBYHj_8",
        "outputId": "8fc2fb6e-dc40-49b9-cc60-caff41ffec05"
      },
      "source": [
        "diamonds.head()"
      ],
      "execution_count": 205,
      "outputs": [
        {
          "output_type": "execute_result",
          "data": {
            "text/html": [
              "<div>\n",
              "<style scoped>\n",
              "    .dataframe tbody tr th:only-of-type {\n",
              "        vertical-align: middle;\n",
              "    }\n",
              "\n",
              "    .dataframe tbody tr th {\n",
              "        vertical-align: top;\n",
              "    }\n",
              "\n",
              "    .dataframe thead th {\n",
              "        text-align: right;\n",
              "    }\n",
              "</style>\n",
              "<table border=\"1\" class=\"dataframe\">\n",
              "  <thead>\n",
              "    <tr style=\"text-align: right;\">\n",
              "      <th></th>\n",
              "      <th>carat</th>\n",
              "      <th>cut</th>\n",
              "      <th>color</th>\n",
              "      <th>clarity</th>\n",
              "      <th>depth</th>\n",
              "      <th>table</th>\n",
              "      <th>price</th>\n",
              "      <th>x</th>\n",
              "      <th>y</th>\n",
              "      <th>z</th>\n",
              "    </tr>\n",
              "  </thead>\n",
              "  <tbody>\n",
              "    <tr>\n",
              "      <th>0</th>\n",
              "      <td>0.23</td>\n",
              "      <td>0.0</td>\n",
              "      <td>0.0</td>\n",
              "      <td>0.0</td>\n",
              "      <td>61.5</td>\n",
              "      <td>55.0</td>\n",
              "      <td>326</td>\n",
              "      <td>3.95</td>\n",
              "      <td>3.98</td>\n",
              "      <td>2.43</td>\n",
              "    </tr>\n",
              "    <tr>\n",
              "      <th>1</th>\n",
              "      <td>0.21</td>\n",
              "      <td>0.0</td>\n",
              "      <td>0.0</td>\n",
              "      <td>0.0</td>\n",
              "      <td>59.8</td>\n",
              "      <td>61.0</td>\n",
              "      <td>326</td>\n",
              "      <td>3.89</td>\n",
              "      <td>3.84</td>\n",
              "      <td>2.31</td>\n",
              "    </tr>\n",
              "    <tr>\n",
              "      <th>2</th>\n",
              "      <td>0.23</td>\n",
              "      <td>0.0</td>\n",
              "      <td>0.0</td>\n",
              "      <td>0.0</td>\n",
              "      <td>56.9</td>\n",
              "      <td>65.0</td>\n",
              "      <td>327</td>\n",
              "      <td>4.05</td>\n",
              "      <td>4.07</td>\n",
              "      <td>2.31</td>\n",
              "    </tr>\n",
              "    <tr>\n",
              "      <th>3</th>\n",
              "      <td>0.29</td>\n",
              "      <td>0.0</td>\n",
              "      <td>0.0</td>\n",
              "      <td>0.0</td>\n",
              "      <td>62.4</td>\n",
              "      <td>58.0</td>\n",
              "      <td>334</td>\n",
              "      <td>4.20</td>\n",
              "      <td>4.23</td>\n",
              "      <td>2.63</td>\n",
              "    </tr>\n",
              "    <tr>\n",
              "      <th>4</th>\n",
              "      <td>0.31</td>\n",
              "      <td>0.0</td>\n",
              "      <td>1.0</td>\n",
              "      <td>0.0</td>\n",
              "      <td>63.3</td>\n",
              "      <td>58.0</td>\n",
              "      <td>335</td>\n",
              "      <td>4.34</td>\n",
              "      <td>4.35</td>\n",
              "      <td>2.75</td>\n",
              "    </tr>\n",
              "  </tbody>\n",
              "</table>\n",
              "</div>"
            ],
            "text/plain": [
              "   carat  cut  color  clarity  depth  table  price     x     y     z\n",
              "0   0.23  0.0    0.0      0.0   61.5   55.0    326  3.95  3.98  2.43\n",
              "1   0.21  0.0    0.0      0.0   59.8   61.0    326  3.89  3.84  2.31\n",
              "2   0.23  0.0    0.0      0.0   56.9   65.0    327  4.05  4.07  2.31\n",
              "3   0.29  0.0    0.0      0.0   62.4   58.0    334  4.20  4.23  2.63\n",
              "4   0.31  0.0    1.0      0.0   63.3   58.0    335  4.34  4.35  2.75"
            ]
          },
          "metadata": {},
          "execution_count": 205
        }
      ]
    },
    {
      "cell_type": "code",
      "metadata": {
        "colab": {
          "base_uri": "https://localhost:8080/"
        },
        "id": "KxWALlbKA5nw",
        "outputId": "9ed70522-e1ec-4820-e82f-8f4aff7f7ebb"
      },
      "source": [
        "diamonds.info()"
      ],
      "execution_count": 206,
      "outputs": [
        {
          "output_type": "stream",
          "text": [
            "<class 'pandas.core.frame.DataFrame'>\n",
            "Int64Index: 53920 entries, 0 to 53939\n",
            "Data columns (total 10 columns):\n",
            " #   Column   Non-Null Count  Dtype  \n",
            "---  ------   --------------  -----  \n",
            " 0   carat    53920 non-null  float64\n",
            " 1   cut      53920 non-null  float64\n",
            " 2   color    53920 non-null  float64\n",
            " 3   clarity  53920 non-null  float64\n",
            " 4   depth    53920 non-null  float64\n",
            " 5   table    53920 non-null  float64\n",
            " 6   price    53920 non-null  int64  \n",
            " 7   x        53920 non-null  float64\n",
            " 8   y        53920 non-null  float64\n",
            " 9   z        53920 non-null  float64\n",
            "dtypes: float64(9), int64(1)\n",
            "memory usage: 4.5 MB\n"
          ],
          "name": "stdout"
        }
      ]
    },
    {
      "cell_type": "code",
      "metadata": {
        "colab": {
          "base_uri": "https://localhost:8080/"
        },
        "id": "q3dyzYOQBKZL",
        "outputId": "31b19647-4a4b-48ca-bae1-c537116ac0e8"
      },
      "source": [
        "#adding an extra attribute : the volume attribute \n",
        "diamonds[\"volume\"] = diamonds[\"x\"]*diamonds[\"y\"]*diamonds[\"z\"]\n"
      ],
      "execution_count": 207,
      "outputs": [
        {
          "output_type": "stream",
          "text": [
            "<class 'pandas.core.frame.DataFrame'>\n",
            "Int64Index: 53920 entries, 0 to 53939\n",
            "Data columns (total 11 columns):\n",
            " #   Column   Non-Null Count  Dtype  \n",
            "---  ------   --------------  -----  \n",
            " 0   carat    53920 non-null  float64\n",
            " 1   cut      53920 non-null  float64\n",
            " 2   color    53920 non-null  float64\n",
            " 3   clarity  53920 non-null  float64\n",
            " 4   depth    53920 non-null  float64\n",
            " 5   table    53920 non-null  float64\n",
            " 6   price    53920 non-null  int64  \n",
            " 7   x        53920 non-null  float64\n",
            " 8   y        53920 non-null  float64\n",
            " 9   z        53920 non-null  float64\n",
            " 10  volume   53920 non-null  float64\n",
            "dtypes: float64(10), int64(1)\n",
            "memory usage: 4.9 MB\n"
          ],
          "name": "stdout"
        }
      ]
    },
    {
      "cell_type": "code",
      "metadata": {
        "id": "kXapSIBCH8Zc"
      },
      "source": [
        "diamonds=diamonds.drop(['x', 'y', 'z'], axis=1)"
      ],
      "execution_count": 208,
      "outputs": []
    },
    {
      "cell_type": "code",
      "metadata": {
        "colab": {
          "base_uri": "https://localhost:8080/"
        },
        "id": "atgWLxMBJbkI",
        "outputId": "cb7403cf-6f69-4957-e93f-a44e7ef1027c"
      },
      "source": [
        "diamonds.info()"
      ],
      "execution_count": 219,
      "outputs": [
        {
          "output_type": "stream",
          "text": [
            "<class 'pandas.core.frame.DataFrame'>\n",
            "Int64Index: 53920 entries, 0 to 53939\n",
            "Data columns (total 8 columns):\n",
            " #   Column   Non-Null Count  Dtype  \n",
            "---  ------   --------------  -----  \n",
            " 0   carat    53920 non-null  float64\n",
            " 1   cut      53920 non-null  float64\n",
            " 2   color    53920 non-null  float64\n",
            " 3   clarity  53920 non-null  float64\n",
            " 4   depth    53920 non-null  float64\n",
            " 5   table    53920 non-null  float64\n",
            " 6   price    53920 non-null  int64  \n",
            " 7   volume   53920 non-null  float64\n",
            "dtypes: float64(7), int64(1)\n",
            "memory usage: 3.7 MB\n"
          ],
          "name": "stdout"
        }
      ]
    },
    {
      "cell_type": "markdown",
      "metadata": {
        "id": "IHVL6RqVBowW"
      },
      "source": [
        "#Splitting the Data"
      ]
    },
    {
      "cell_type": "code",
      "metadata": {
        "id": "irmnv7qaBuER"
      },
      "source": [
        "# splitting the data into test and train sets \n",
        "from sklearn.model_selection import train_test_split\n",
        "train_set,test_set=train_test_split(diamonds,test_size=0.1)"
      ],
      "execution_count": 209,
      "outputs": []
    },
    {
      "cell_type": "code",
      "metadata": {
        "id": "BD0rCilTB-Pm"
      },
      "source": [
        "#dropping the price function from the train set \n",
        "train_set_x=train_set.drop([\"price\"],axis=1)\n",
        "train_set_y=train_set[\"price\"]\n",
        "test_set_x = test_set.drop([\"price\"],axis=1)\n",
        "test_set_y = test_set[\"price\"]"
      ],
      "execution_count": 210,
      "outputs": []
    },
    {
      "cell_type": "markdown",
      "metadata": {
        "id": "Sle3v8ngCAy7"
      },
      "source": [
        "#Training the Model"
      ]
    },
    {
      "cell_type": "code",
      "metadata": {
        "colab": {
          "base_uri": "https://localhost:8080/"
        },
        "id": "OTU1Oh4qCGBr",
        "outputId": "feeb781f-8f6e-417e-fb68-05a2531a71b1"
      },
      "source": [
        "# Tree regression \n",
        "from sklearn.tree import DecisionTreeRegressor\n",
        "tree_reg = DecisionTreeRegressor()\n",
        "tree_reg.fit(train_set_x, train_set_y)"
      ],
      "execution_count": 211,
      "outputs": [
        {
          "output_type": "execute_result",
          "data": {
            "text/plain": [
              "DecisionTreeRegressor(ccp_alpha=0.0, criterion='mse', max_depth=None,\n",
              "                      max_features=None, max_leaf_nodes=None,\n",
              "                      min_impurity_decrease=0.0, min_impurity_split=None,\n",
              "                      min_samples_leaf=1, min_samples_split=2,\n",
              "                      min_weight_fraction_leaf=0.0, presort='deprecated',\n",
              "                      random_state=None, splitter='best')"
            ]
          },
          "metadata": {},
          "execution_count": 211
        }
      ]
    },
    {
      "cell_type": "code",
      "metadata": {
        "colab": {
          "base_uri": "https://localhost:8080/"
        },
        "id": "P4ThRyHbCLYj",
        "outputId": "e932268d-00e2-47c8-dc95-af68daecfa0d"
      },
      "source": [
        "# finding the RMSE value \n",
        "from sklearn.metrics import mean_squared_error\n",
        "diamonds_predictions=tree_reg.predict(train_set_x)\n",
        "tree_mse= mean_squared_error(train_set_y,diamonds_predictions)\n",
        "tree_rmse=np.sqrt(tree_mse)\n",
        "tree_rmse"
      ],
      "execution_count": 212,
      "outputs": [
        {
          "output_type": "execute_result",
          "data": {
            "text/plain": [
              "166.53886607015792"
            ]
          },
          "metadata": {},
          "execution_count": 212
        }
      ]
    },
    {
      "cell_type": "code",
      "metadata": {
        "colab": {
          "base_uri": "https://localhost:8080/"
        },
        "id": "1MPU5f3_Cs-5",
        "outputId": "1dca6673-5a62-4e0b-9bed-8778c07d4019"
      },
      "source": [
        "# Checking the validation \n",
        "from sklearn.model_selection import cross_val_score\n",
        "scores = cross_val_score(tree_reg, train_set_x, train_set_y,\n",
        "scoring=\"neg_mean_squared_error\", cv=10)\n",
        "rmse_scores = np.sqrt(-scores)\n",
        "print(\"Mean \", rmse_scores.mean())"
      ],
      "execution_count": 213,
      "outputs": [
        {
          "output_type": "stream",
          "text": [
            "Mean  1536.3622886669746\n"
          ],
          "name": "stdout"
        }
      ]
    },
    {
      "cell_type": "code",
      "metadata": {
        "colab": {
          "base_uri": "https://localhost:8080/"
        },
        "id": "7F7LZTVyDS_F",
        "outputId": "9c0b32bb-fb11-48ac-8c78-8034e4b587c5"
      },
      "source": [
        "#Linear Regression \n",
        "from sklearn.linear_model import LinearRegression\n",
        "lin_reg = LinearRegression()\n",
        "lin_reg.fit(train_set_x, train_set_y)"
      ],
      "execution_count": 214,
      "outputs": [
        {
          "output_type": "execute_result",
          "data": {
            "text/plain": [
              "LinearRegression(copy_X=True, fit_intercept=True, n_jobs=None, normalize=False)"
            ]
          },
          "metadata": {},
          "execution_count": 214
        }
      ]
    },
    {
      "cell_type": "code",
      "metadata": {
        "colab": {
          "base_uri": "https://localhost:8080/"
        },
        "id": "Qw4NWRjoDTuQ",
        "outputId": "e5188b38-d96b-4253-838b-83d7a1192fed"
      },
      "source": [
        "#RMSE for linear \n",
        "scores = cross_val_score(lin_reg, train_set_x, train_set_y,scoring=\"neg_mean_squared_error\", cv=10)\n",
        "rmse_scores = np.sqrt(-scores)\n",
        "print(\"Mean \", rmse_scores.mean())"
      ],
      "execution_count": 215,
      "outputs": [
        {
          "output_type": "stream",
          "text": [
            "Mean  1525.5315152171975\n"
          ],
          "name": "stdout"
        }
      ]
    },
    {
      "cell_type": "code",
      "metadata": {
        "colab": {
          "base_uri": "https://localhost:8080/"
        },
        "id": "DR1oC7CxDa_8",
        "outputId": "1571f5ab-dee8-493a-e3e3-4b5b2707ac1d"
      },
      "source": [
        "# Random Forest Regression \n",
        "from sklearn.ensemble import RandomForestRegressor\n",
        "forest_reg = RandomForestRegressor()\n",
        "forest_reg.fit(train_set_x, train_set_y)"
      ],
      "execution_count": 216,
      "outputs": [
        {
          "output_type": "execute_result",
          "data": {
            "text/plain": [
              "RandomForestRegressor(bootstrap=True, ccp_alpha=0.0, criterion='mse',\n",
              "                      max_depth=None, max_features='auto', max_leaf_nodes=None,\n",
              "                      max_samples=None, min_impurity_decrease=0.0,\n",
              "                      min_impurity_split=None, min_samples_leaf=1,\n",
              "                      min_samples_split=2, min_weight_fraction_leaf=0.0,\n",
              "                      n_estimators=100, n_jobs=None, oob_score=False,\n",
              "                      random_state=None, verbose=0, warm_start=False)"
            ]
          },
          "metadata": {},
          "execution_count": 216
        }
      ]
    },
    {
      "cell_type": "code",
      "metadata": {
        "colab": {
          "base_uri": "https://localhost:8080/"
        },
        "id": "zJKK4KPnDiNy",
        "outputId": "e7abf983-bb71-4b92-fbcc-65876ec27ab6"
      },
      "source": [
        "#Valedation \n",
        "scores = cross_val_score(forest_reg, train_set_x, train_set_y,\n",
        "scoring=\"neg_mean_squared_error\", cv=10)\n",
        "rmse_scores = np.sqrt(-scores)\n",
        "print(\"Mean (with Cross_val)\", rmse_scores.mean())"
      ],
      "execution_count": 217,
      "outputs": [
        {
          "output_type": "stream",
          "text": [
            "Mean (with Cross_val) 1187.7812732544546\n"
          ],
          "name": "stdout"
        }
      ]
    },
    {
      "cell_type": "code",
      "metadata": {
        "colab": {
          "base_uri": "https://localhost:8080/"
        },
        "id": "sMkD9OKXDjXv",
        "outputId": "b47b87d8-5080-4211-ba5f-e73848fb1840"
      },
      "source": [
        "# checking the accuracy \n",
        "\n",
        "diamonds_predictions = forest_reg.predict(test_set_x)\n",
        "forest_mse = mean_squared_error(test_set_y, diamonds_predictions)\n",
        "forest_rmse = np.sqrt(forest_mse)\n",
        "print(\"RMSE\",forest_rmse)\n",
        "test_accuracy = forest_reg.score(test_set_x, test_set_y)*100\n",
        "print(\"Accuracy:\", test_accuracy)"
      ],
      "execution_count": 218,
      "outputs": [
        {
          "output_type": "stream",
          "text": [
            "RMSE 1190.3664567887793\n",
            "Accuracy: 91.52314083548525\n"
          ],
          "name": "stdout"
        }
      ]
    }
  ]
}